{
 "cells": [
  {
   "cell_type": "code",
   "execution_count": 1,
   "id": "d082373a",
   "metadata": {},
   "outputs": [],
   "source": [
    "import torch\n",
    "import torch.nn as nn\n",
    "import numpy as np\n",
    "import matplotlib.pyplot as plt\n",
    "from scipy.integrate import odeint"
   ]
  },
  {
   "cell_type": "code",
   "execution_count": 2,
   "id": "8fd7883a",
   "metadata": {},
   "outputs": [],
   "source": [
    "# parameters\n",
    "alpha = -1\n",
    "beta = 1\n",
    "delta = 0.3\n",
    "gamma = 0.37\n",
    "omega = 1.2\n",
    "\n",
    "\n",
    "# defining the eom for duffing oscillator\n",
    "def duffing(variables, t, alpha, beta, delta, gamma, omega):\n",
    "    x, y = variables\n",
    "    dx = y\n",
    "    dy = -delta * y - alpha * x - beta * x ** 3 #+ gamma * torch.cos(omega * t)\n",
    "\n",
    "    # convert into torch.tensor\n",
    "    tensor_param = torch.tensor([dx, dy])\n",
    "    return tensor_param"
   ]
  },
  {
   "cell_type": "code",
   "execution_count": 3,
   "id": "b8d85fb9",
   "metadata": {},
   "outputs": [],
   "source": [
    "class FCN(nn.Module):\n",
    "    \"Defines a connected network\"\n",
    "\n",
    "    def __init__(self, N_INPUT, N_OUTPUT, N_HIDDEN, N_LAYERS):\n",
    "        super().__init__()\n",
    "        activation = nn.Tanh\n",
    "        self.fcs = nn.Sequential(*[\n",
    "            nn.Linear(N_INPUT, N_HIDDEN),\n",
    "            activation()])\n",
    "        self.fch = nn.Sequential(*[nn.Linear(N_HIDDEN, N_HIDDEN), activation()] * (N_LAYERS - 1))\n",
    "        self.fce = nn.Linear(N_HIDDEN, N_OUTPUT)\n",
    "\n",
    "    def forward(self, x):\n",
    "        x = self.fcs(x)\n",
    "        x = self.fch(x)\n",
    "        x = self.fce(x)\n",
    "        return x"
   ]
  },
  {
   "cell_type": "code",
   "execution_count": 4,
   "id": "5b3ccf3b",
   "metadata": {},
   "outputs": [
    {
     "name": "stdout",
     "output_type": "stream",
     "text": [
      "torch.Size([500, 1]) torch.Size([500, 1])\n",
      "torch.Size([10, 1]) torch.Size([10, 1])\n"
     ]
    }
   ],
   "source": [
    "\n",
    "# initial conditions\n",
    "x0 = torch.tensor(0.0)\n",
    "y0 = torch.tensor(0.0)\n",
    "variables0 = [x0, y0]\n",
    "\n",
    "# get the analytical solution over the full domain\n",
    "t = torch.linspace(0, 1, 500)  # create a tensor for time\n",
    "x = torch.linspace(0, 1, 500).view(-1, 1)\n",
    "\n",
    "y = odeint(duffing, variables0, t, args=(alpha, beta, delta, gamma, omega))\n",
    "y = torch.from_numpy(y[:, 0]).view(-1, 1)  # convert to tensor and reshape\n",
    "\n",
    "print(x.shape, y.shape)\n",
    "\n",
    "# slice out a small number of points from the LHS of the domain\n",
    "x_data = x[0:200:20]\n",
    "y_data = y[0:200:20]\n",
    "\n",
    "print(x_data.shape, y_data.shape)"
   ]
  },
  {
   "cell_type": "code",
   "execution_count": 8,
   "id": "2af575ce",
   "metadata": {},
   "outputs": [],
   "source": [
    "x_physics = torch.linspace(0, 1, 30).view(-1, 1).requires_grad_(True)  # sample location on the domain\n",
    "\n",
    "torch.manual_seed(123)\n",
    "model = FCN(1, 1, 128, 32)\n",
    "optimizer = torch.optim.Adam(model.parameters(), lr=1e-6)\n",
    "for i in range(30000):\n",
    "    optimizer.zero_grad()\n",
    "\n",
    "    # compute the \"data loss\"\n",
    "    yh = model(x_data)\n",
    "    loss1 = torch.mean((yh - y_data) ** 2)  # use mean squared error\n",
    "\n",
    "    # compute the physics loss\n",
    "    yhp = model(x_physics)\n",
    "    dy_pred = torch.autograd.grad(yhp, x_physics, torch.ones_like(yhp), create_graph=True)[0]  # computes dy/dx\n",
    "    d2y_pred = torch.autograd.grad(dy_pred, x_physics, torch.ones_like(dy_pred), create_graph=True)[0]\n",
    "\n",
    "    # Define the physics loss equation\n",
    "    physics = d2y_pred + delta * dy_pred + alpha * yhp + beta * torch.pow(yhp, 3) #- gamma * torch.cos(torch.tensor(omega) * torch.tensor(t))\n",
    "\n",
    "    # You should specify what you want to do with the physics loss\n",
    "    # For example, you can compute the mean squared error between physics and zeros tensor:\n",
    "    loss_physics = torch.mean(physics ** 2)\n",
    "\n",
    "    # Combine the data loss and physics loss\n",
    "    total_loss = loss1 + loss_physics"
   ]
  },
  {
   "cell_type": "code",
   "execution_count": 9,
   "id": "cbc2fdc1",
   "metadata": {},
   "outputs": [
    {
     "ename": "IndentationError",
     "evalue": "expected an indented block (1010900930.py, line 16)",
     "output_type": "error",
     "traceback": [
      "\u001b[0;36m  File \u001b[0;32m\"/tmp/ipykernel_170181/1010900930.py\"\u001b[0;36m, line \u001b[0;32m16\u001b[0m\n\u001b[0;31m    yh = model(x).detach()\u001b[0m\n\u001b[0m     ^\u001b[0m\n\u001b[0;31mIndentationError\u001b[0m\u001b[0;31m:\u001b[0m expected an indented block\n"
     ]
    }
   ],
   "source": [
    "\n",
    "\n",
    "\n",
    "    # Backpropagation and optimization step\n",
    "    total_loss.backward()\n",
    "    optimizer.step()\n",
    "    def plot_result(x, y, x_data, y_data, yh, xp):\n",
    "        plt.figure(figsize=(8, 6))\n",
    "        plt.scatter(x_data, y_data, color='b', label='Training Data')\n",
    "        plt.plot(x.detach().cpu().numpy(), y.detach().cpu().numpy(), color='r', label='Ground Truth')\n",
    "        plt.plot(x.detach().cpu().numpy(), yh.detach().cpu().numpy(), color='g', label='Model Prediction')\n",
    "        plt.xlabel('x')\n",
    "        plt.ylabel('y')\n",
    "        plt.title('Model Training Progress')\n",
    "        plt.legend()\n",
    "\n",
    "# Plot the result as training progresses\n",
    "if (i+1) % 150 == 0: \n",
    "    yh = model(x).detach()\n",
    "    xp = x_physics.detach()\n",
    "    \n",
    "    plot_result(x, y, x_data, y_data, yh, xp)\n",
    "    \n",
    "    file = \"plots/pinn_%.8i.png\"%(i+1)\n",
    "    plt.savefig(file, bbox_inches='tight', pad_inches=0.1, dpi=100, facecolor=\"white\")\n",
    "    files.append(file)\n",
    "    \n",
    "    if (i+1) % 6000 == 0: \n",
    "        plt.show()\n",
    "    else: \n",
    "        plt.close(\"all\")\n"
   ]
  },
  {
   "cell_type": "code",
   "execution_count": null,
   "id": "09c1dae3",
   "metadata": {},
   "outputs": [],
   "source": []
  }
 ],
 "metadata": {
  "kernelspec": {
   "display_name": "Python [conda env:pytorch]",
   "language": "python",
   "name": "conda-env-pytorch-py"
  },
  "language_info": {
   "codemirror_mode": {
    "name": "ipython",
    "version": 3
   },
   "file_extension": ".py",
   "mimetype": "text/x-python",
   "name": "python",
   "nbconvert_exporter": "python",
   "pygments_lexer": "ipython3",
   "version": "3.7.10"
  }
 },
 "nbformat": 4,
 "nbformat_minor": 5
}
