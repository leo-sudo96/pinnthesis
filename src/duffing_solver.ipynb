{
 "cells": [
  {
   "cell_type": "code",
   "execution_count": null,
   "id": "a0750a0d",
   "metadata": {},
   "outputs": [],
   "source": [
    "class duffing_solver:\n",
    "    # Define a function to solve the Duffing equation numerically\n",
    "    def solve_duffing(d, a, b, gamma, w, x):\n",
    "        def duffing(y, t):\n",
    "            y0, y1 = y\n",
    "            dydt = [y1, -d * y1 - a * y0 - b * y0**3 + gamma * np.cos(w * t)]\n",
    "            return dydt\n",
    "\n",
    "        y0 = [0, 0]  \n",
    "        sol = odeint(duffing, y0, x.view(-1).numpy())  # Convert x to a one-dimensional numpy array\n",
    "        y = torch.tensor(sol[:, 0])\n",
    "        return y\n"
   ]
  }
 ],
 "metadata": {
  "kernelspec": {
   "display_name": "Python [conda env:pytorch]",
   "language": "python",
   "name": "conda-env-pytorch-py"
  },
  "language_info": {
   "codemirror_mode": {
    "name": "ipython",
    "version": 3
   },
   "file_extension": ".py",
   "mimetype": "text/x-python",
   "name": "python",
   "nbconvert_exporter": "python",
   "pygments_lexer": "ipython3",
   "version": "3.7.10"
  }
 },
 "nbformat": 4,
 "nbformat_minor": 5
}
