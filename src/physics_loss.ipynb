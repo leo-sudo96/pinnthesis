{
 "cells": [
  {
   "cell_type": "code",
   "execution_count": null,
   "id": "532e35a8",
   "metadata": {},
   "outputs": [],
   "source": [
    "class physics_loss_class:\n",
    "#physics_loss definition\n",
    "def physics_loss(model,x_physics,d,a,b,gamma,w)\n",
    "\n",
    "    \n",
    "    # Compute the physics loss by enforcing the differential equation\n",
    "    yhp = model(x_physics)\n",
    "    dy_pred = autograd.grad(yhp, x_physics, torch.ones_like(yhp), create_graph=True)[0]\n",
    "    d2y_pred = autograd.grad(dy_pred, x_physics, torch.ones_like(dy_pred), create_graph=True)[0]\n",
    "\n",
    "    physics = d2y_pred + d * dy_pred + a * yhp + b * torch.pow(yhp, 3) - gamma * torch.cos(w * x_physics)\n",
    "    loss_physics = (1e-4) * torch.mean(physics**2)\n",
    "    return loss_physics"
   ]
  }
 ],
 "metadata": {
  "kernelspec": {
   "display_name": "Python [conda env:pytorch]",
   "language": "python",
   "name": "conda-env-pytorch-py"
  },
  "language_info": {
   "codemirror_mode": {
    "name": "ipython",
    "version": 3
   },
   "file_extension": ".py",
   "mimetype": "text/x-python",
   "name": "python",
   "nbconvert_exporter": "python",
   "pygments_lexer": "ipython3",
   "version": "3.7.10"
  }
 },
 "nbformat": 4,
 "nbformat_minor": 5
}
