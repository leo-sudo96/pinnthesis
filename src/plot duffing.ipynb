{
 "cells": [
  {
   "cell_type": "code",
   "execution_count": null,
   "id": "46aeb003",
   "metadata": {},
   "outputs": [],
   "source": [
    "import matplotlib.pyplot as plt\n",
    "\n",
    "def plot_duffing_oscillator(d, a, b, gamma, w, x, y):\n",
    "    plt.figure(figsize=(10, 6))\n",
    "    plt.plot(x.view(-1).numpy(), y.view(-1).numpy(), label='Duffing Oscillation', color=\"grey\", linewidth=2)\n",
    "    plt.xlabel('Time')\n",
    "    plt.ylabel('Position')\n",
    "    plt.title('Duffing Oscillator')\n",
    "    plt.legend()\n",
    "    plt.grid(True)\n",
    "    plt.show()  # Display the plot immediately"
   ]
  }
 ],
 "metadata": {
  "kernelspec": {
   "display_name": "Python [conda env:pytorch]",
   "language": "python",
   "name": "conda-env-pytorch-py"
  },
  "language_info": {
   "codemirror_mode": {
    "name": "ipython",
    "version": 3
   },
   "file_extension": ".py",
   "mimetype": "text/x-python",
   "name": "python",
   "nbconvert_exporter": "python",
   "pygments_lexer": "ipython3",
   "version": "3.7.10"
  }
 },
 "nbformat": 4,
 "nbformat_minor": 5
}
