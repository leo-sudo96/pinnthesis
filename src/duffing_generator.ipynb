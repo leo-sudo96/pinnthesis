{
 "cells": [
  {
   "cell_type": "code",
   "execution_count": null,
   "id": "7e0fc0b8",
   "metadata": {},
   "outputs": [],
   "source": [
    "class duffing_generator_class:\n",
    "    # Define a function to solve the Duffing equation numerically\n",
    "    def duffing_generator(d, a, b, gamma, w, x):\n",
    "        a = random.random(-1.5, 1.5)\n",
    "        b = random.random(-1.5, 1.5)\n",
    "        d = random.random(-10,10)\n",
    "        gamma = random.random (-1.5 , 1.5)\n",
    "        w = random (0,10)\n",
    "        linspace_tensor = torch.linspace(0, 1, 500).view(-1,1) \n",
    "        size = linspace_tensor.size()\n",
    "        x = torch.rand(size)\n",
    "        def duffing(y, t):\n",
    "            y0, y1 = y\n",
    "            dydt = [y1, -d * y1 - a * y0 - b * y0**3 + gamma * np.cos(w * t)]\n",
    "            return dydt\n",
    "\n",
    "        y0 = [0, 0]  \n",
    "        sol = odeint(duffing, y0, x.view(-1).numpy())  # Convert x to a one-dimensional numpy array\n",
    "        y = torch.tensor(sol[:, 0])\n",
    "        return [y, d, a, b, gamma, w, x]\n"
   ]
  }
 ],
 "metadata": {
  "kernelspec": {
   "display_name": "Python [conda env:pytorch]",
   "language": "python",
   "name": "conda-env-pytorch-py"
  },
  "language_info": {
   "codemirror_mode": {
    "name": "ipython",
    "version": 3
   },
   "file_extension": ".py",
   "mimetype": "text/x-python",
   "name": "python",
   "nbconvert_exporter": "python",
   "pygments_lexer": "ipython3",
   "version": "3.7.10"
  }
 },
 "nbformat": 4,
 "nbformat_minor": 5
}
